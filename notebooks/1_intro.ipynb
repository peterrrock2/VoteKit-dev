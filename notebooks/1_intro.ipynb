{
 "cells": [
  {
   "cell_type": "markdown",
   "metadata": {
    "id": "MOatIRHlN3AQ"
   },
   "source": [
    "# Getting started with VoteKit\n",
    "\n",
    "VoteKit is a Python package developed by MGGG in order to support computational social choice researchers as well as practitioners and advocates interested in so-called \"alternative\" systems of election. This first section will help us hit the ground running by introducing some of our key vocabulary and introducing some Python syntax along the way. By the end of the section, you should know about ballots, preference profiles, preference intervals, blocs/slates, and election systems.\n",
    "\n",
    "## Ballots\n",
    "\n",
    "### Ranked Ballots\n",
    "\n",
    "The first order of business is ballots. In the context of ranked choice voting, a ballot records a voter's preferences as a linear ordering of the candidates. If a voter casts the ballot $A>B>C$, this means they prefer candidate $A$ to $B$ and candidate $B$ to $C$. (We often use the $>$ symbol to indicate higher preference.) Let's see how ballots are stored in VoteKit. First we import the necessary modules."
   ]
  },
  {
   "cell_type": "code",
   "execution_count": 1,
   "metadata": {},
   "outputs": [
    {
     "name": "stdout",
     "output_type": "stream",
     "text": [
      "RankBallot\n",
      "1.) A, \n",
      "2.) B, \n",
      "3.) C, \n",
      "Weight: 1.5\n",
      "\n",
      "--------------------------------\n",
      "\n",
      "RankBallot\n",
      "1.) A, \n",
      "2.) B, \n",
      "3.) C, \n",
      "Weight: 32.0\n"
     ]
    }
   ],
   "source": [
    "from votekit.ballot import Ballot\n",
    "\n",
    "ballot = Ballot(ranking=[{\"A\"}, {\"B\"}, {\"C\"}], weight=3 / 2)\n",
    "print(ballot)\n",
    "\n",
    "print(\"\\n--------------------------------\\n\")\n",
    "\n",
    "ballot = Ballot(ranking=[{\"A\"}, {\"B\"}, {\"C\"}], weight=32)\n",
    "print(ballot)"
   ]
  },
  {
   "cell_type": "markdown",
   "metadata": {},
   "source": [
    "For super users: notice that while we input a `Ballot`, VoteKit creates a `RankBallot` type. In release 3.3.0, we made the decision to distinguish `RankBallot` types from `ScoreBallot` types. We kept the API the same so you can either shift to the new syntax, or keep using `Ballot` as before. Under the hood, `Ballot` is the parent class."
   ]
  },
  {
   "cell_type": "markdown",
   "metadata": {},
   "source": [
    "#### **Try it yourself**\n",
    "> Create three new ballots, one with weight 47, one with weight 22/7, and one with your own weight idea.\n"
   ]
  },
  {
   "cell_type": "markdown",
   "metadata": {
    "id": "jiKj4fffRQTF"
   },
   "source": [
    "Let's dig a bit more into how the ranking is stored. It is a list of sets, where the first set in the list indicates which candidates were ranked first, the second set is who was ranked second, etc. In the first example, we stored a **full linear ranking**. There was only one candidate listed in each position, and every candidate was listed. \n",
    "\n",
    "Full linear rankings are not the only possible ballots.\n",
    "Real-world voters frequently list multiple candidates in the same position (even if that is against the rules of the election). As far as we know, this is always treated by localities running ranked choice elections as a voter error, called an **overvote**.\n",
    "\n",
    "Voters also leave some candidates out. In an extreme case, when a voter only lists one candidate, we call this a **bullet vote**.  These are fairly common in ranked elections, and a position with no candidates listed is sometimes called an **undervote**.\n",
    "\n",
    "We might prefer for localities running ranked choice elections to be smart about the voter intent to communicate a tied preference -- and we can do that in VoteKit.  But we'll get to running elections later."
   ]
  },
  {
   "cell_type": "code",
   "execution_count": 2,
   "metadata": {
    "id": "Os5WCB4PRO_2"
   },
   "outputs": [
    {
     "name": "stdout",
     "output_type": "stream",
     "text": [
      "A ballot with overvotes: RankBallot\n",
      "1.) A, D, (tie)\n",
      "2.) B, \n",
      "3.) F, E, B, C, (tie)\n",
      "Weight: 1.0\n"
     ]
    }
   ],
   "source": [
    "ballot = Ballot(ranking=[{\"A\", \"D\"}, {\"B\", \"B\", \"B\"}, {\"C\", \"E\", \"F\", \"B\"}])\n",
    "print(\"A ballot with overvotes:\", ballot)"
   ]
  },
  {
   "cell_type": "markdown",
   "metadata": {
    "id": "AAzcjcCMSCgq"
   },
   "source": [
    "The ballot above says that candidates $D$ and $A$ were ranked first, $B$ second, and $E,C,F$ all in third."
   ]
  },
  {
   "cell_type": "code",
   "execution_count": 3,
   "metadata": {
    "id": "WSNDpLC4SBSC"
   },
   "outputs": [
    {
     "name": "stdout",
     "output_type": "stream",
     "text": [
      "A bullet vote:\n",
      "RankBallot\n",
      "1.) B, \n",
      "Weight: 1.0\n"
     ]
    }
   ],
   "source": [
    "ballot = Ballot(ranking=[{\"B\"}])\n",
    "print(\"A bullet vote:\")\n",
    "print(ballot)"
   ]
  },
  {
   "cell_type": "markdown",
   "metadata": {
    "id": "VFn78vLhTE1m"
   },
   "source": [
    "The ballot above is a bullet vote; only candidate $B$ is listed in first."
   ]
  },
  {
   "cell_type": "markdown",
   "metadata": {
    "id": "xEIzTeraVy8V"
   },
   "source": [
    "#### **Automatic cleaning vs specified cleaning**\n",
    "What we really mean to illustrate above is that the `Ballot` class has no understanding of the rules of your election. It is flexible enough to allow all sorts of rankings, even ones that are not valid. \n",
    "\n",
    "Since the ranking is a list of *sets*, the only default cleaning that occurs in ballots in VoteKit is that the candidates listed in a particular position will be deduplicated. In the code above, the first ballot should only print with one candidate named \"B\" in position two. \n",
    "\n",
    "There are many other kinds of cleaning functions, but you have to choose to apply those yourself. This is really crucial to know; lots of elections will behave strangely if you do not have the correct ballot types as input, but it is up to you to clean them to the level needed for your method of election."
   ]
  },
  {
   "cell_type": "markdown",
   "metadata": {},
   "source": [
    "### Score Ballots\n",
    "The other common ballot type is a score ballot. In this type, each candidate is given a score. Of course, a score induces a ranking, but we do not automatically generate the induced ranking to make the conceptual distinction that ranked elections and scored elections are different."
   ]
  },
  {
   "cell_type": "code",
   "execution_count": 4,
   "metadata": {},
   "outputs": [
    {
     "name": "stdout",
     "output_type": "stream",
     "text": [
      "ScoreBallot\n",
      "A: 4.00\n",
      "B: 3.00\n",
      "C: 4.00\n",
      "Weight: 1.0\n"
     ]
    }
   ],
   "source": [
    "ballot = Ballot(scores={\"A\": 4, \"B\": 3, \"C\": 4})\n",
    "print(ballot)"
   ]
  },
  {
   "cell_type": "markdown",
   "metadata": {},
   "source": [
    "As of VoteKit 3.3.0, a ballot *cannot* have both a ranking and a scoring of candidates. The following code should raise an error."
   ]
  },
  {
   "cell_type": "code",
   "execution_count": 5,
   "metadata": {},
   "outputs": [
    {
     "name": "stdout",
     "output_type": "stream",
     "text": [
      "Only one of ranking or scores can be provided.\n"
     ]
    }
   ],
   "source": [
    "try:\n",
    "    ballot = Ballot(ranking=[{\"C\"}, {\"B\"}, {\"A\"}], scores={\"A\": 4, \"B\": 3, \"C\": 4})\n",
    "except Exception as e:\n",
    "    print(e)\n"
   ]
  },
  {
   "cell_type": "markdown",
   "metadata": {},
   "source": [
    "For the remainder of this tutorial, we will use ranked ballots."
   ]
  },
  {
   "cell_type": "markdown",
   "metadata": {
    "id": "N5EKCH49WK81"
   },
   "source": [
    "## Preference Profiles\n",
    "\n",
    "When we want to aggregate a collection of ballots cast by voters, we use the `PreferenceProfile` object. It stores all of the ballots, allows us to visualize them, and comes with some handy features. \n",
    "\n",
    "First we display the simple profile, which just repeats the weights as they were inputted. Underlying the `PreferenceProfile` object is a pandas `DataFrame`, which is what you should use to display the whole collection of ballots in a compact format."
   ]
  },
  {
   "cell_type": "code",
   "execution_count": 6,
   "metadata": {
    "id": "iV5cI77LWD8K"
   },
   "outputs": [
    {
     "name": "stdout",
     "output_type": "stream",
     "text": [
      "RankProfile\n",
      "Maximum ranking length: 3\n",
      "Candidates: ('A', 'B', 'C')\n",
      "Candidates who received votes: ('A', 'B', 'C')\n",
      "Total number of Ballot objects: 6\n",
      "Total weight of Ballot objects: 8.0\n",
      "\n",
      "\n",
      "             Ranking_1 Ranking_2 Ranking_3 Voter Set  Weight\n",
      "Ballot Index                                                \n",
      "0                  (A)       (B)       (C)        {}     3.0\n",
      "1                  (B)       (A)       (C)        {}     1.0\n",
      "2                  (C)       (B)       (A)        {}     1.0\n",
      "3                  (A)       (B)       (C)        {}     1.0\n",
      "4                  (A)       (B)       (C)        {}     1.0\n",
      "5                  (B)       (A)       (C)        {}     1.0\n"
     ]
    }
   ],
   "source": [
    "from votekit.pref_profile import PreferenceProfile\n",
    "\n",
    "candidates = [\"A\", \"B\", \"C\"]\n",
    "\n",
    "# let's assume that the ballots come from voters,\n",
    "# so they all have integer weight for now\n",
    "ballots = [\n",
    "    Ballot(ranking=[{\"A\"}, {\"B\"}, {\"C\"}], weight=3),\n",
    "    Ballot(ranking=[{\"B\"}, {\"A\"}, {\"C\"}]),\n",
    "    Ballot(ranking=[{\"C\"}, {\"B\"}, {\"A\"}]),\n",
    "    Ballot(ranking=[{\"A\"}, {\"B\"}, {\"C\"}]),\n",
    "    Ballot(ranking=[{\"A\"}, {\"B\"}, {\"C\"}]),\n",
    "    Ballot(ranking=[{\"B\"}, {\"A\"}, {\"C\"}]),\n",
    "]\n",
    "\n",
    "# we give the profile a list of ballots and a list of candidates\n",
    "profile = PreferenceProfile(ballots=ballots, candidates=candidates)\n",
    "\n",
    "print(profile)\n",
    "print()\n",
    "print(profile.df.to_string())"
   ]
  },
  {
   "cell_type": "markdown",
   "metadata": {},
   "source": [
    "For super users: notice that while we input a `PreferenceProfile`, VoteKit creates a `RankProfile` type because the ballots had rankings. In release 3.3.0, we made the decision to distinguish `RankProfile` types from `ScoreProfile` types. We kept the API the same so you can either shift to the new syntax, or keep using `PreferenceProfile` as before. Under the hood, `PreferenceProfile` is the parent class."
   ]
  },
  {
   "cell_type": "markdown",
   "metadata": {
    "id": "LjgbAkwcXIOp"
   },
   "source": [
    "The `PreferenceProfile` class takes a list of `Ballot` objects and a list of candidates. The candidate names must be distinct, and it will raise an error if not. Providing the list of candidates is actually optional, and it has no impact on the profile object. If the candidates are not provided, the profile automatically computes the candidates as anyone who appeared on a ballot with positive weight.  However, later when we move on to ballot generation, the list of candidates will be important, so it is good practice to specify them.\n"
   ]
  },
  {
   "cell_type": "markdown",
   "metadata": {
    "id": "lT-zJGRm3Akl"
   },
   "source": [
    "Notice that printing the profile did not automatically combine like ballots into a single line. But there's an easy way to get the grouped profile, as follows."
   ]
  },
  {
   "cell_type": "code",
   "execution_count": 7,
   "metadata": {
    "id": "h_biXoD6XHNm"
   },
   "outputs": [
    {
     "name": "stdout",
     "output_type": "stream",
     "text": [
      "RankProfile\n",
      "Maximum ranking length: 3\n",
      "Candidates: ('A', 'B', 'C')\n",
      "Candidates who received votes: ('B', 'A', 'C')\n",
      "Total number of Ballot objects: 3\n",
      "Total weight of Ballot objects: 8.0\n",
      "\n",
      "\n",
      "             Ranking_1 Ranking_2 Ranking_3  Weight Voter Set\n",
      "Ballot Index                                                \n",
      "0                  (A)       (B)       (C)     5.0        {}\n",
      "1                  (B)       (A)       (C)     2.0        {}\n",
      "2                  (C)       (B)       (A)     1.0        {}\n"
     ]
    }
   ],
   "source": [
    "grouped_profile = profile.group_ballots()\n",
    "print(grouped_profile)\n",
    "print()\n",
    "print(grouped_profile.df.to_string())"
   ]
  },
  {
   "cell_type": "markdown",
   "metadata": {
    "id": "yGAI75oba9Ld"
   },
   "source": [
    "In these examples, the profiles are very short, so we can print the entire profile dataframe. If the profile was very long, we would want to view just the head of the dataframe. If you are savvy with the pandas library, `profile.df` returns a pandas `DataFrame` that you can use and manipulate. If you aren't, you can use the VoteKit functions `profile_df_head` and `profile_df_tail` to return the top and bottom ballots by weight. "
   ]
  },
  {
   "cell_type": "code",
   "execution_count": 8,
   "metadata": {
    "id": "7_GiNmc5X1PP"
   },
   "outputs": [
    {
     "name": "stdout",
     "output_type": "stream",
     "text": [
      "RankProfile\n",
      "Maximum ranking length: 3\n",
      "Candidates: ('A', 'B', 'C')\n",
      "Candidates who received votes: ('A', 'B', 'C')\n",
      "Total number of Ballot objects: 36\n",
      "Total weight of Ballot objects: 36.0\n",
      "\n",
      "\n",
      "             Ranking_1 Ranking_2 Ranking_3 Voter Set  Weight\n",
      "Ballot Index                                                \n",
      "0                  (A)       (B)       (C)        {}     1.0\n",
      "1                  (B)       (A)       (C)        {}     1.0\n",
      "20                 (C)       (B)       (A)        {}     1.0\n",
      "21                 (A)       (~)       (~)        {}     1.0\n",
      "22                 (A)       (B)       (C)        {}     1.0\n",
      "23                 (B)       (A)       (~)        {}     1.0\n",
      "24                 (A)       (B)       (C)        {}     1.0\n",
      "25                 (B)       (A)       (C)        {}     1.0\n",
      "26                 (C)       (B)       (A)        {}     1.0\n",
      "27                 (A)       (~)       (~)        {}     1.0\n"
     ]
    }
   ],
   "source": [
    "from votekit.pref_profile import profile_df_head\n",
    "ballots = [\n",
    "    Ballot(ranking=[{\"A\"}, {\"B\"}, {\"C\"}]),\n",
    "    Ballot(ranking=[{\"B\"}, {\"A\"}, {\"C\"}]),\n",
    "    Ballot(ranking=[{\"C\"}, {\"B\"}, {\"A\"}]),\n",
    "    Ballot(ranking=[{\"A\"}]),\n",
    "    Ballot(ranking=[{\"A\"}, {\"B\"}, {\"C\"}]),\n",
    "    Ballot(ranking=[{\"B\"}, {\"A\"}]),\n",
    "]\n",
    "\n",
    "profile = PreferenceProfile(ballots=ballots * 6, candidates=candidates)\n",
    "\n",
    "print(profile)\n",
    "print()\n",
    "print(profile_df_head(profile, 10))"
   ]
  },
  {
   "cell_type": "markdown",
   "metadata": {},
   "source": [
    "The `~` symbols indicate that the end of a ranking, i.e. the voter stopped ranking candidates. It is a reserved character for the underlying dataframe, so you can never make a candidate name just a `~`. \n",
    "\n",
    "If we wanted to indicate that a voter *skipped* a position, we would do so with an empty set in the ballot, which would look like this."
   ]
  },
  {
   "cell_type": "code",
   "execution_count": 9,
   "metadata": {},
   "outputs": [
    {
     "name": "stdout",
     "output_type": "stream",
     "text": [
      "             Ranking_1 Ranking_2 Ranking_3 Voter Set  Weight\n",
      "Ballot Index                                                \n",
      "0                  (A)        ()       (C)        {}     1.0\n",
      "1                  (A)       (D)       (~)        {}     1.0\n"
     ]
    }
   ],
   "source": [
    "ballot_1 = Ballot(ranking=({\"A\"}, set(), {\"C\"})) # a skipped position\n",
    "ballot_2 = Ballot(ranking=({\"A\"}, {\"D\"})) # a ballot that left off one possible ranking\n",
    "\n",
    "profile = PreferenceProfile(ballots=(ballot_1, ballot_2), max_ranking_length= 3)\n",
    "\n",
    "print(profile.df)"
   ]
  },
  {
   "cell_type": "markdown",
   "metadata": {
    "id": "XiQVNiA_bRr5"
   },
   "source": [
    "`profile_df_head` and `tail` come with some helpful parameters. \n",
    "\n",
    "### **Try it yourself**\n",
    "> Play with the parameters in the function below to see what they do."
   ]
  },
  {
   "cell_type": "code",
   "execution_count": 10,
   "metadata": {},
   "outputs": [
    {
     "data": {
      "text/html": [
       "<div>\n",
       "<style scoped>\n",
       "    .dataframe tbody tr th:only-of-type {\n",
       "        vertical-align: middle;\n",
       "    }\n",
       "\n",
       "    .dataframe tbody tr th {\n",
       "        vertical-align: top;\n",
       "    }\n",
       "\n",
       "    .dataframe thead th {\n",
       "        text-align: right;\n",
       "    }\n",
       "</style>\n",
       "<table border=\"1\" class=\"dataframe\">\n",
       "  <thead>\n",
       "    <tr style=\"text-align: right;\">\n",
       "      <th></th>\n",
       "      <th>Ranking_1</th>\n",
       "      <th>Ranking_2</th>\n",
       "      <th>Ranking_3</th>\n",
       "      <th>Voter Set</th>\n",
       "      <th>Weight</th>\n",
       "      <th>Percent</th>\n",
       "    </tr>\n",
       "    <tr>\n",
       "      <th>Ballot Index</th>\n",
       "      <th></th>\n",
       "      <th></th>\n",
       "      <th></th>\n",
       "      <th></th>\n",
       "      <th></th>\n",
       "      <th></th>\n",
       "    </tr>\n",
       "  </thead>\n",
       "  <tbody>\n",
       "    <tr>\n",
       "      <th>0</th>\n",
       "      <td>(A)</td>\n",
       "      <td>(B)</td>\n",
       "      <td>(C)</td>\n",
       "      <td>{}</td>\n",
       "      <td>1.0</td>\n",
       "      <td>2.778%</td>\n",
       "    </tr>\n",
       "    <tr>\n",
       "      <th>1</th>\n",
       "      <td>(B)</td>\n",
       "      <td>(A)</td>\n",
       "      <td>(C)</td>\n",
       "      <td>{}</td>\n",
       "      <td>1.0</td>\n",
       "      <td>2.778%</td>\n",
       "    </tr>\n",
       "    <tr>\n",
       "      <th>2</th>\n",
       "      <td>(C)</td>\n",
       "      <td>(B)</td>\n",
       "      <td>(A)</td>\n",
       "      <td>{}</td>\n",
       "      <td>1.0</td>\n",
       "      <td>2.778%</td>\n",
       "    </tr>\n",
       "    <tr>\n",
       "      <th>3</th>\n",
       "      <td>(A)</td>\n",
       "      <td>(~)</td>\n",
       "      <td>(~)</td>\n",
       "      <td>{}</td>\n",
       "      <td>1.0</td>\n",
       "      <td>2.778%</td>\n",
       "    </tr>\n",
       "    <tr>\n",
       "      <th>4</th>\n",
       "      <td>(A)</td>\n",
       "      <td>(B)</td>\n",
       "      <td>(C)</td>\n",
       "      <td>{}</td>\n",
       "      <td>1.0</td>\n",
       "      <td>2.778%</td>\n",
       "    </tr>\n",
       "    <tr>\n",
       "      <th>5</th>\n",
       "      <td>(B)</td>\n",
       "      <td>(A)</td>\n",
       "      <td>(~)</td>\n",
       "      <td>{}</td>\n",
       "      <td>1.0</td>\n",
       "      <td>2.778%</td>\n",
       "    </tr>\n",
       "    <tr>\n",
       "      <th>6</th>\n",
       "      <td>(A)</td>\n",
       "      <td>(B)</td>\n",
       "      <td>(C)</td>\n",
       "      <td>{}</td>\n",
       "      <td>1.0</td>\n",
       "      <td>2.778%</td>\n",
       "    </tr>\n",
       "    <tr>\n",
       "      <th>7</th>\n",
       "      <td>(B)</td>\n",
       "      <td>(A)</td>\n",
       "      <td>(C)</td>\n",
       "      <td>{}</td>\n",
       "      <td>1.0</td>\n",
       "      <td>2.778%</td>\n",
       "    </tr>\n",
       "    <tr>\n",
       "      <th>8</th>\n",
       "      <td>(C)</td>\n",
       "      <td>(B)</td>\n",
       "      <td>(A)</td>\n",
       "      <td>{}</td>\n",
       "      <td>1.0</td>\n",
       "      <td>2.778%</td>\n",
       "    </tr>\n",
       "    <tr>\n",
       "      <th>9</th>\n",
       "      <td>(A)</td>\n",
       "      <td>(~)</td>\n",
       "      <td>(~)</td>\n",
       "      <td>{}</td>\n",
       "      <td>1.0</td>\n",
       "      <td>2.778%</td>\n",
       "    </tr>\n",
       "    <tr>\n",
       "      <th>Total</th>\n",
       "      <td></td>\n",
       "      <td></td>\n",
       "      <td></td>\n",
       "      <td></td>\n",
       "      <td>10.0</td>\n",
       "      <td>27.778%</td>\n",
       "    </tr>\n",
       "  </tbody>\n",
       "</table>\n",
       "</div>"
      ],
      "text/plain": [
       "             Ranking_1 Ranking_2 Ranking_3 Voter Set  Weight  Percent\n",
       "Ballot Index                                                         \n",
       "0                  (A)       (B)       (C)        {}     1.0   2.778%\n",
       "1                  (B)       (A)       (C)        {}     1.0   2.778%\n",
       "2                  (C)       (B)       (A)        {}     1.0   2.778%\n",
       "3                  (A)       (~)       (~)        {}     1.0   2.778%\n",
       "4                  (A)       (B)       (C)        {}     1.0   2.778%\n",
       "5                  (B)       (A)       (~)        {}     1.0   2.778%\n",
       "6                  (A)       (B)       (C)        {}     1.0   2.778%\n",
       "7                  (B)       (A)       (C)        {}     1.0   2.778%\n",
       "8                  (C)       (B)       (A)        {}     1.0   2.778%\n",
       "9                  (A)       (~)       (~)        {}     1.0   2.778%\n",
       "Total                                                   10.0  27.778%"
      ]
     },
     "execution_count": 10,
     "metadata": {},
     "output_type": "execute_result"
    }
   ],
   "source": [
    "ballots = [\n",
    "    Ballot(ranking=[{\"A\"}, {\"B\"}, {\"C\"}]),\n",
    "    Ballot(ranking=[{\"B\"}, {\"A\"}, {\"C\"}]),\n",
    "    Ballot(ranking=[{\"C\"}, {\"B\"}, {\"A\"}]),\n",
    "    Ballot(ranking=[{\"A\"}]),\n",
    "    Ballot(ranking=[{\"A\"}, {\"B\"}, {\"C\"}]),\n",
    "    Ballot(ranking=[{\"B\"}, {\"A\"}]),\n",
    "]\n",
    "\n",
    "profile = PreferenceProfile(ballots=ballots * 6, candidates=candidates)\n",
    "profile_df_head(profile, 10, sort_by_weight=False, percents=True, totals=True, n_decimals=3)"
   ]
  },
  {
   "cell_type": "markdown",
   "metadata": {},
   "source": [
    "You can also do most of these with the pandas `DataFrame` methods."
   ]
  },
  {
   "cell_type": "code",
   "execution_count": 11,
   "metadata": {
    "id": "r9vCLNfHbKv8"
   },
   "outputs": [
    {
     "name": "stdout",
     "output_type": "stream",
     "text": [
      "             Ranking_1 Ranking_2 Ranking_3 Voter Set  Weight\n",
      "Ballot Index                                                \n",
      "0                  (A)       (B)       (C)        {}     1.0\n",
      "1                  (B)       (A)       (C)        {}     1.0\n",
      "2                  (C)       (B)       (A)        {}     1.0\n",
      "3                  (A)       (~)       (~)        {}     1.0\n",
      "4                  (A)       (B)       (C)        {}     1.0\n",
      "5                  (B)       (A)       (~)        {}     1.0\n",
      "6                  (A)       (B)       (C)        {}     1.0\n",
      "7                  (B)       (A)       (C)        {}     1.0\n",
      "\n",
      "             Ranking_1 Ranking_2 Ranking_3 Voter Set  Weight\n",
      "Ballot Index                                                \n",
      "28                 (A)       (B)       (C)        {}     1.0\n",
      "29                 (B)       (A)       (~)        {}     1.0\n",
      "30                 (A)       (B)       (C)        {}     1.0\n",
      "31                 (B)       (A)       (C)        {}     1.0\n",
      "32                 (C)       (B)       (A)        {}     1.0\n",
      "33                 (A)       (~)       (~)        {}     1.0\n",
      "34                 (A)       (B)       (C)        {}     1.0\n",
      "35                 (B)       (A)       (~)        {}     1.0\n",
      "\n",
      "Ranking_1    (A)\n",
      "Ranking_2    (B)\n",
      "Ranking_3    (C)\n",
      "Voter Set     {}\n",
      "Weight       1.0\n",
      "Name: 10, dtype: object\n",
      "\n",
      "             Ranking_1 Ranking_2 Ranking_3  Weight Voter Set\n",
      "Ballot Index                                                \n",
      "0                  (A)       (B)       (C)    12.0        {}\n",
      "1                  (A)       (~)       (~)     6.0        {}\n",
      "2                  (B)       (A)       (C)     6.0        {}\n",
      "3                  (B)       (A)       (~)     6.0        {}\n",
      "4                  (C)       (B)       (A)     6.0        {}\n"
     ]
    }
   ],
   "source": [
    "# this will print the top 8 in order of input\n",
    "print(profile.df.head(8))\n",
    "print()\n",
    " \n",
    "# and the bottom 8\n",
    "print(profile.df.tail(8))\n",
    "print()\n",
    "\n",
    "# and the entry indexed 10, which includes the percent of the profile\n",
    "# this ballot accounts for\n",
    "print(profile.df.iloc[10])\n",
    "print()\n",
    "\n",
    "# condense and sort by by weight\n",
    "condensed_profile = profile.group_ballots()\n",
    "print(condensed_profile.df.head(8).sort_values(by=\"Weight\", ascending=False))"
   ]
  },
  {
   "cell_type": "markdown",
   "metadata": {
    "id": "QYI-IpCKbyQA"
   },
   "source": [
    "A few other useful attributes/methods are listed here.  Use `profile.ATTR` for each one.\n",
    "\n",
    "- `candidates` returns the list of candidates input to the profile.\n",
    "\n",
    "- `candidates_cast` returns the list of candidates who received votes.\n",
    "\n",
    "- `ballots` returns the list of ballots (useful if you want to extract the ballots to write custom code, say).\n",
    "\n",
    "- `num_ballots` returns the number of ballots, which is the length of `ballots`.\n",
    "\n",
    "- `total_ballot_wt` returns the sum of the ballot weights.\n",
    "\n",
    "- `to_pickle(fpath = \"name_of_file.pkl\")` saves the profile as a pkl (useful if you want to replicate runs of an experiment).\n",
    "\n",
    "\n",
    "\n",
    "### **Try it yourself**\n",
    "> Try using all of the above attributes/methods, with or without grouping the ballots.\n",
    "\n",
    "\n"
   ]
  },
  {
   "cell_type": "markdown",
   "metadata": {
    "id": "Y1t2QPGYeN14"
   },
   "source": [
    "## Preference Intervals\n",
    "\n",
    "There are a few ways to input ballots into VoteKit. You can type them all by hand as we did above, you can read them in from real-world vote records, or you can generate them within VoteKit. While we will dive a lot deeper into reading and generating in future sections, it is worthwhile to introduce some of the vocabulary surrounding generative models here.\n",
    "\n",
    "Most of our generative models rely on a **preference interval**. A preference interval stores information about the relative strengths of a voter's priorities for candidates. We visualize this, unsurprisingly, as an interval. We take the interval $[0,1]$ and divide it into pieces, where we've taken all the preference weights and scaled so they add to 1.\n",
    "\n",
    "For example,\n",
    "```\n",
    "{\"A\": 0.7, \"B\": 0.2, \"C\": 0.1}\n",
    "```\n",
    "is a dictionary that represents an ordered preference interval where A is preferred to B by a ratio of 7:2, etc.  \n",
    "\n",
    "Later, the ballot generator models will pull from these preferences to create a ballot for each voter.\n",
    "\n",
    "It should be remarked that there is a difference, at least to VoteKit, between the intervals\n",
    "```\n",
    "{\"A\": 0.7, \"B\": 0.3, \"C\": 0}\n",
    "```\n",
    "and\n",
    "``` \n",
    "{\"A\": 0.7, \"B\": 0.3}\n",
    "```\n",
    "\n",
    "While both say there is no preference for candidate C, if the latter interval is fed into VoteKit, that third candidate will never appear on a generated ballot. If we feed it the former interval, the third candidate will appear at the bottom of the ballot.\n",
    "\n",
    "![png](../../_static/assets/preference_interval.png)"
   ]
  },
  {
   "cell_type": "markdown",
   "metadata": {
    "id": "cZU00wL2syvx"
   },
   "source": [
    "One of the generative models is called the **slate-Plackett-Luce model**, or s-PL.  In s-PL, voters fill in their ballot from the top position to the bottom by choosing from the available candidates in proportion to their preference weights. We call this the impulsive voter model.\n",
    "\n",
    "You can read more about s-PL in our social choice documentation, but for now let's use it to explore how intervals work. We will assume there is only one bloc of voters and one slate of candidates. You can ignore what all this syntax means for now; we will return to it in a later tutorial."
   ]
  },
  {
   "cell_type": "code",
   "execution_count": 12,
   "metadata": {
    "id": "uzXMLfmxtnaX"
   },
   "outputs": [
    {
     "name": "stdout",
     "output_type": "stream",
     "text": [
      "             Ranking_1 Ranking_2 Ranking_3  Weight Voter Set\n",
      "Ballot Index                                                \n",
      "0                  (A)       (B)       (C)   606.0        {}\n",
      "1                  (A)       (C)       (B)   201.0        {}\n",
      "3                  (B)       (A)       (C)   137.0        {}\n",
      "5                  (C)       (A)       (B)    39.0        {}\n",
      "2                  (B)       (C)       (A)    11.0        {}\n",
      "4                  (C)       (B)       (A)     6.0        {}\n"
     ]
    }
   ],
   "source": [
    "import votekit.ballot_generator as bg\n",
    "from votekit import PreferenceInterval\n",
    "\n",
    "# the sPL model assumes there are blocs of voters,\n",
    "# but we can just say that there is only one bloc and slate\n",
    "bloc_proportions = {\"all_voters\": 1}\n",
    "slate_to_candidates = {\"all_candidates\": [\"A\", \"B\", \"C\"]}\n",
    "\n",
    "# the preference interval (80,15,5)\n",
    "preference_mapping = {\n",
    "    \"all_voters\": {\"all_candidates\": PreferenceInterval({\"A\": 0.80, \"B\": 0.15, \"C\": 0.05})}\n",
    "}\n",
    "\n",
    "# the sPL model needs an estimate of cohesion between slates,\n",
    "# but there is only one bloc and slate\n",
    "cohesion_mapping = {\"all_voters\": {\"all_candidates\": 1}}\n",
    "\n",
    "config = bg.BlocSlateConfig(n_voters = 1000,\n",
    "                            preference_mapping = preference_mapping,\n",
    "                            bloc_proportions=bloc_proportions,\n",
    "                            slate_to_candidates=slate_to_candidates,\n",
    "                            cohesion_mapping=cohesion_mapping)\n",
    "\n",
    "\n",
    "profile = bg.slate_pl_profile_generator(config)\n",
    "print(profile_df_head(profile,10))\n"
   ]
  },
  {
   "cell_type": "markdown",
   "metadata": {
    "id": "YGP-q_Og9EgR"
   },
   "source": [
    "Re-run the above block several times to see that the elections will come out different!  The s-PL model is random, meaning we won't always get the same profile when we run `generate_profile` (although we are planning to implement an explicit `random seed` option so that you can replicate runs). You probably won't get the same output as what is stored in this tutorial either. That's okay! Check that most ballots rank $A$ first, which is expected because they had the largest portion of the preference interval. Likewise, $C$ is least popular."
   ]
  },
  {
   "cell_type": "markdown",
   "metadata": {
    "id": "voW7i4ibu_w4"
   },
   "source": [
    "## Blocs\n",
    "\n",
    "A **bloc** of voters is a group of voters who have similar voting behavior, generally preferring their **slate** of candidates to the slates associated to other blocs. In VoteKit, we model this by assuming voters within a bloc have the same preference interval. Let's look at an example where there are two blocs called Alpha and Xenon, each with a two-candidate slate ($A,B$ and $X,Y$, respectively). \n",
    "\n",
    "By introducing blocs, we also need to discuss cohesion parameters. In realistic polarized elections, we might be able to identify two groups with different voting tendencies, but real voting blocs are not perfectly monolithic---some voters will stick with their slate, but many others might have a tendency to \"cross over\" to the other slate sometimes in constructing their ballot.\n",
    "\n",
    "The precise meaning of these vary by model, but broadly speaking, **cohesion parameters** measure the strength with which voters within a particular bloc stick to their slate."
   ]
  },
  {
   "cell_type": "code",
   "execution_count": 15,
   "metadata": {
    "id": "sDqeF_SouFkp"
   },
   "outputs": [
    {
     "name": "stdout",
     "output_type": "stream",
     "text": [
      "The ballots from Alpha voters\n",
      "              Ranking_1 Ranking_2 Ranking_3 Ranking_4  Weight Voter Set\n",
      "Ballot Index                                                          \n",
      "2                  (A)       (B)       (Y)       (X)    3677        {}\n",
      "3                  (A)       (Y)       (B)       (X)    2115        {}\n",
      "0                  (B)       (A)       (Y)       (X)    1197        {}\n",
      "4                  (Y)       (A)       (B)       (X)     666        {}\n",
      "1                  (B)       (Y)       (A)       (X)     188        {}\n",
      "5                  (Y)       (B)       (A)       (X)     157        {}\n",
      "The ballots from Xenon voters\n",
      "              Ranking_1 Ranking_2 Ranking_3 Ranking_4  Weight Voter Set\n",
      "Ballot Index                                                          \n",
      "1                  (X)       (Y)       (B)       (A)     378        {}\n",
      "12                 (Y)       (X)       (A)       (B)     369        {}\n",
      "0                  (X)       (Y)       (A)       (B)     360        {}\n",
      "13                 (Y)       (X)       (B)       (A)     332        {}\n",
      "14                 (Y)       (A)       (X)       (B)      84        {}\n",
      "17                 (Y)       (B)       (X)       (A)      77        {}\n",
      "5                  (X)       (B)       (Y)       (A)      75        {}\n",
      "3                  (X)       (A)       (Y)       (B)      66        {}\n",
      "21                 (B)       (X)       (Y)       (A)      54        {}\n",
      "9                  (A)       (X)       (Y)       (B)      52        {}\n",
      "Aggregated ballots\n",
      "              Ranking_1 Ranking_2 Ranking_3 Ranking_4  Weight Voter Set\n",
      "Ballot Index                                                          \n",
      "2                  (A)       (B)       (Y)       (X)    3677        {}\n",
      "3                  (A)       (Y)       (B)       (X)    2115        {}\n",
      "0                  (B)       (A)       (Y)       (X)    1197        {}\n",
      "4                  (Y)       (A)       (B)       (X)     666        {}\n",
      "7                  (X)       (Y)       (B)       (A)     378        {}\n",
      "18                 (Y)       (X)       (A)       (B)     369        {}\n",
      "6                  (X)       (Y)       (A)       (B)     360        {}\n",
      "19                 (Y)       (X)       (B)       (A)     332        {}\n",
      "1                  (B)       (Y)       (A)       (X)     188        {}\n",
      "5                  (Y)       (B)       (A)       (X)     157        {}\n"
     ]
    }
   ],
   "source": [
    "slate_to_candidates = {\"Alpha\": [\"A\", \"B\"], \"Xenon\": [\"X\", \"Y\"]}\n",
    "\n",
    "# note that we include candidates with 0 support,\n",
    "# and that our preference intervals will automatically rescale to sum to 1\n",
    "\n",
    "preference_mapping = {\n",
    "    \"Alpha\": {\n",
    "        \"Alpha\": PreferenceInterval({\"A\": 0.8, \"B\": 0.2}),\n",
    "        \"Xenon\": PreferenceInterval({\"X\": 0, \"Y\": 1}),\n",
    "    },\n",
    "    \"Xenon\": {\n",
    "        \"Alpha\": PreferenceInterval({\"A\": 0.5, \"B\": 0.5}),\n",
    "        \"Xenon\": PreferenceInterval({\"X\": 0.5, \"Y\": 0.5}),\n",
    "    },\n",
    "}\n",
    "\n",
    "\n",
    "bloc_proportions = {\"Alpha\": 0.8, \"Xenon\": 0.2}\n",
    "\n",
    "# assume that each bloc is 90% cohesive\n",
    "# we'll discuss exactly what that means later\n",
    "cohesion_mapping = {\n",
    "    \"Alpha\": {\"Alpha\": 0.9, \"Xenon\": 0.1},\n",
    "    \"Xenon\": {\"Xenon\": 0.9, \"Alpha\": 0.1},\n",
    "}\n",
    "\n",
    "config = bg.BlocSlateConfig(n_voters = 10000,\n",
    "                            preference_mapping = preference_mapping,\n",
    "                            bloc_proportions=bloc_proportions,\n",
    "                            slate_to_candidates=slate_to_candidates,\n",
    "                            cohesion_mapping=cohesion_mapping)\n",
    "\n",
    "# by using the by_bloc generator we can see which ballots came from which blocs of voters\n",
    "profile_dict = bg.name_pl_profiles_by_bloc_generator(config)\n",
    "print(\"The ballots from Alpha voters\\n\", profile_df_head(profile_dict[\"Alpha\"],10))\n",
    "\n",
    "print(\"The ballots from Xenon voters\\n\", profile_df_head(profile_dict[\"Xenon\"],10))\n",
    "\n",
    "# to create the aggregate profile, we just sum the profiles in the dictionary\n",
    "agg_profile = profile_dict[\"Alpha\"] + profile_dict[\"Xenon\"]\n",
    "print(\"Aggregated ballots\\n\", profile_df_head(agg_profile,10))"
   ]
  },
  {
   "cell_type": "markdown",
   "metadata": {
    "id": "DfkYP0Ypv8RM"
   },
   "source": [
    "Scan this to be sure it is reasonable, recalling that our intervals say that the Alpha voters prefer $A$ to $B$, while $X$ has no support in that bloc. Xenon voters like $X$ and $Y$ equally, and then like $A$ and $B$ equally (although much less than their own slate). There should be a lot more Alpha-style voters than Xenon-style voters.\n",
    "\n"
   ]
  },
  {
   "cell_type": "markdown",
   "metadata": {
    "id": "ifuP_btCwgFV"
   },
   "source": [
    "## Elections\n",
    "\n",
    "Finally, we are ready to run an election. It is important to distinguish between *preference profiles*, which are a collection of ballots, and *elections*, which are the method by which those ballots are converted to an outcome (candidates elected to seats). We will explore all sorts of election types in later notebooks. For now, let's use a plurality election on a small set of ballots so we can verify that it behaves as it should."
   ]
  },
  {
   "cell_type": "code",
   "execution_count": 14,
   "metadata": {
    "id": "IEVM_dcrw4Lk"
   },
   "outputs": [
    {
     "name": "stdout",
     "output_type": "stream",
     "text": [
      "             Ranking_1 Ranking_2 Ranking_3  Weight Voter Set\n",
      "Ballot Index                                                \n",
      "0                  (A)       (B)       (C)    18.0        {}\n",
      "1                  (B)       (A)       (C)    12.0        {}\n",
      "2                  (C)       (B)       (A)     6.0        {}\n",
      "      Status  Round\n",
      "A    Elected      1\n",
      "B  Remaining      1\n",
      "C  Remaining      1\n"
     ]
    }
   ],
   "source": [
    "from votekit.elections import Plurality\n",
    "\n",
    "ballots = [\n",
    "    Ballot(ranking=[{\"A\"}, {\"B\"}, {\"C\"}]),\n",
    "    Ballot(ranking=[{\"B\"}, {\"A\"}, {\"C\"}]),\n",
    "    Ballot(ranking=[{\"C\"}, {\"B\"}, {\"A\"}]),\n",
    "    Ballot(ranking=[{\"A\"}, {\"B\"}, {\"C\"}]),\n",
    "    Ballot(ranking=[{\"A\"}, {\"B\"}, {\"C\"}]),\n",
    "    Ballot(ranking=[{\"B\"}, {\"A\"}, {\"C\"}]),\n",
    "]\n",
    "\n",
    "profile = PreferenceProfile(ballots=ballots * 6, candidates=candidates)\n",
    "\n",
    "profile = profile.group_ballots()\n",
    "\n",
    "print(profile.df)\n",
    "\n",
    "# m is the number of seats to elect\n",
    "election = Plurality(profile=profile, m=1)\n",
    "\n",
    "print(election)"
   ]
  },
  {
   "cell_type": "markdown",
   "metadata": {
    "id": "80gR-vtGxnBK"
   },
   "source": [
    "If everything worked as intended, you should see that $A$ was elected, while $B,C$ were remaining. There is only one round, as plurality elections are single step.\n",
    "\n"
   ]
  },
  {
   "cell_type": "markdown",
   "metadata": {
    "id": "-CaLVxrBcSYw"
   },
   "source": [
    "You can also run a plurality election with more seats than one; it just takes the $m$ candidates with the most first-place support as winners.\n",
    "\n",
    "For advanced users:  if several candidates had the same level of first-place support, the default tiebreaker in VoteKit is `None`, and it will raise an error telling you to choose a tiebreak method. This can be done by setting `tiebreak='random'` or `tiebreak='borda'` in the `Plurality` init method. There is also a `'first_place'` option, but that won't help in a plurality tie."
   ]
  },
  {
   "cell_type": "markdown",
   "metadata": {
    "id": "ndNN2Lubx6KX"
   },
   "source": [
    "### Conclusion\n",
    "The goal of this section was to introduce the vocabulary of VoteKit and ranked choice voting. You should now know about ballots, preference profiles, preference intervals, blocs/slates, and the distinction between profiles and elections. "
   ]
  },
  {
   "cell_type": "markdown",
   "metadata": {
    "id": "GOUhZ8PhutTZ"
   },
   "source": [
    "#### Extra Prompts\n",
    "\n",
    "If you have finished this section and are looking to extend your understanding, try the following prompts:\n",
    "\n",
    "- Write your own profile with four candidates named Trump, Rubio, Cruz, and Kasich, a preference interval of your choice, and with the bloc name set to \"Repubs2016\". Generate 1000 ballots. Are they distributed how they should be given your preference interval?\n",
    "- Create a preference profile where candidates $B,C$ should be elected under a 2-seat plurality election. Run the election and confirm!"
   ]
  }
 ],
 "metadata": {
  "colab": {
   "provenance": []
  },
  "kernelspec": {
   "display_name": ".venv",
   "language": "python",
   "name": "python3"
  },
  "language_info": {
   "codemirror_mode": {
    "name": "ipython",
    "version": 3
   },
   "file_extension": ".py",
   "mimetype": "text/x-python",
   "name": "python",
   "nbconvert_exporter": "python",
   "pygments_lexer": "ipython3",
   "version": "3.11.8"
  }
 },
 "nbformat": 4,
 "nbformat_minor": 0
}
