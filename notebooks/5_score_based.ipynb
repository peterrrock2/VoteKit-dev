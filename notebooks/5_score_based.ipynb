{
 "cells": [
  {
   "cell_type": "markdown",
   "metadata": {},
   "source": [
    "# Score-based Voting"
   ]
  },
  {
   "cell_type": "markdown",
   "metadata": {},
   "source": [
    "As we saw in the introductory notebook, in addition to ranking-based voting, there are also a host of election systems that make use of score-based ballots. By the end of this section, you should be comfortable with score ballots, Rating elections, and Cumulative elections and generators."
   ]
  },
  {
   "cell_type": "markdown",
   "metadata": {},
   "source": [
    "## Score ballots\n",
    "First, let's revisit how to define score ballots."
   ]
  },
  {
   "cell_type": "code",
   "execution_count": 2,
   "metadata": {},
   "outputs": [
    {
     "name": "stdout",
     "output_type": "stream",
     "text": [
      "ScoreBallot\n",
      "A: 4.00\n",
      "B: 3.00\n",
      "C: 4.00\n",
      "Weight: 3.0\n"
     ]
    }
   ],
   "source": [
    "from votekit import Ballot\n",
    "\n",
    "score_ballot = Ballot(scores={\"A\": 4, \"B\": 3, \"C\": 4}, weight=3)\n",
    "print(score_ballot)"
   ]
  },
  {
   "cell_type": "markdown",
   "metadata": {},
   "source": [
    "Notice that despite the scores inducing the ranking $A,C>B$, the ballot only knows the scores. This is to conceptually separate score ballots from ranking ballots. If you want to convert a score ballot to a ranking, you can use the ``score_dict_to_ranking`` function from the ``utils`` module."
   ]
  },
  {
   "cell_type": "code",
   "execution_count": 4,
   "metadata": {},
   "outputs": [
    {
     "name": "stdout",
     "output_type": "stream",
     "text": [
      "Ranking: (frozenset({'A', 'C'}), frozenset({'B'}))\n",
      "\n",
      " RankBallot\n",
      "1.) A, C, (tie)\n",
      "2.) B, \n",
      "Weight: 3.0\n"
     ]
    }
   ],
   "source": [
    "from votekit.utils import score_dict_to_ranking\n",
    "\n",
    "ranking = score_dict_to_ranking(score_ballot.scores)\n",
    "print(\"Ranking:\", ranking)\n",
    "\n",
    "ranked_ballot = Ballot(ranking=ranking, weight=score_ballot.weight)\n",
    "print(\"\\n\", ranked_ballot)"
   ]
  },
  {
   "cell_type": "markdown",
   "metadata": {},
   "source": [
    "If you had an entire profile of score ballots and wanted to convert them all to ranked, you could do so as follows."
   ]
  },
  {
   "cell_type": "code",
   "execution_count": 6,
   "metadata": {},
   "outputs": [
    {
     "name": "stdout",
     "output_type": "stream",
     "text": [
      "ScoreProfile\n",
      "Candidates: ('A', 'B', 'C')\n",
      "Candidates who received votes: ('A', 'B', 'C')\n",
      "Total number of Ballot objects: 4\n",
      "Total weight of Ballot objects: 13.0\n",
      "\n",
      "Ranked profile\n",
      "              Ranking_1 Ranking_2 Ranking_3 Voter Set  Weight\n",
      "Ballot Index                                                \n",
      "0               (A, C)       (B)       (~)        {}     3.0\n",
      "1                  (C)       (B)       (A)        {}     2.0\n",
      "2                  (B)       (C)       (A)        {}     5.0\n",
      "3                  (B)       (~)       (~)        {}     3.0\n"
     ]
    }
   ],
   "source": [
    "from votekit import PreferenceProfile\n",
    "\n",
    "score_profile = PreferenceProfile(\n",
    "    ballots=[\n",
    "        Ballot(scores={\"A\": 4, \"B\": 3, \"C\": 4}, weight=3),\n",
    "        Ballot(scores={\"A\": 2, \"B\": 3, \"C\": 4}, weight=2),\n",
    "        Ballot(scores={\"A\": 1, \"B\": 5, \"C\": 4}, weight=5),\n",
    "        Ballot(scores={\"A\": 0, \"B\": 2, \"C\": 0}, weight=3),\n",
    "    ]\n",
    ")\n",
    "\n",
    "print(score_profile)\n",
    "\n",
    "ranked_ballots = [\n",
    "    Ballot(ranking=score_dict_to_ranking(b.scores), weight=b.weight)\n",
    "    for b in score_profile.ballots\n",
    "]\n",
    "\n",
    "ranked_profile = PreferenceProfile(ballots=ranked_ballots)\n",
    "\n",
    "\n",
    "print(\"Ranked profile\\n\", ranked_profile.df)"
   ]
  },
  {
   "cell_type": "markdown",
   "metadata": {},
   "source": [
    "Score ballots are flexible enough to allow any non-zero score, including negative scores. Scores of 0 are dropped from the dictionary. Note that not all election methods support negative scoring, but these elections in ``VoteKit`` validate your ballots and will raise a ``TypeError`` if an invalid score is passed."
   ]
  },
  {
   "cell_type": "code",
   "execution_count": 7,
   "metadata": {},
   "outputs": [
    {
     "name": "stdout",
     "output_type": "stream",
     "text": [
      "ScoreBallot\n",
      "A: -1.00\n",
      "B: 3.14\n",
      "Weight: 3.0\n"
     ]
    }
   ],
   "source": [
    "score_ballot = Ballot(scores={\"A\": -1, \"B\": 3.14159, \"C\": 0}, weight=3)\n",
    "print(score_ballot)"
   ]
  },
  {
   "cell_type": "markdown",
   "metadata": {},
   "source": [
    "## Rating Election\n",
    "In a Rating election, to fill $m$ seats, voters score each candidate independently from $0-L$, where $L$ is some user-specified limit.  The $m$ winners are those with the highest total score.\n"
   ]
  },
  {
   "cell_type": "code",
   "execution_count": 8,
   "metadata": {},
   "outputs": [
    {
     "name": "stdout",
     "output_type": "stream",
     "text": [
      "      Status  Round\n",
      "B    Elected      1\n",
      "C  Remaining      1\n",
      "A  Remaining      1\n"
     ]
    }
   ],
   "source": [
    "from votekit.elections import Rating\n",
    "\n",
    "score_profile = PreferenceProfile(\n",
    "    ballots=[\n",
    "        Ballot(scores={\"A\": 4, \"B\": 3, \"C\": 4}, weight=3),\n",
    "        Ballot(scores={\"A\": 2, \"B\": 3, \"C\": 4}, weight=2),\n",
    "        Ballot(scores={\"A\": 1, \"B\": 5, \"C\": 4}, weight=5),\n",
    "        Ballot(scores={\"A\": 0, \"B\": 2, \"C\": 0}, weight=3),\n",
    "    ]\n",
    ")\n",
    "\n",
    "# elect 1 seat, each voter can rate candidates up to 5 points independently\n",
    "election = Rating(score_profile, m=1, L=5)\n",
    "print(election)"
   ]
  },
  {
   "cell_type": "markdown",
   "metadata": {},
   "source": [
    "Let's look at the score totals to convince ourselves B was the winner."
   ]
  },
  {
   "cell_type": "code",
   "execution_count": 9,
   "metadata": {},
   "outputs": [
    {
     "name": "stdout",
     "output_type": "stream",
     "text": [
      "{'A': 21.0, 'B': 46.0, 'C': 40.0}\n"
     ]
    }
   ],
   "source": [
    "print(election.election_states[0].scores)"
   ]
  },
  {
   "cell_type": "markdown",
   "metadata": {},
   "source": [
    "Now let's see that the Rating election validates our profile before running the election. All of these code blocks should raise ``TypeError``s."
   ]
  },
  {
   "cell_type": "code",
   "execution_count": 10,
   "metadata": {},
   "outputs": [
    {
     "name": "stdout",
     "output_type": "stream",
     "text": [
      "Found the following error:\n",
      "\tTypeError: Ballot RankBallot\n",
      "1.) A, \n",
      "2.) B, \n",
      "3.) C, \n",
      "Weight: 1.0 must be of type ScoreBallot\n"
     ]
    }
   ],
   "source": [
    "ranking_profile = PreferenceProfile(ballots=[Ballot(ranking=[{\"A\"}, {\"B\"}, {\"C\"}])])\n",
    "\n",
    "# should raise a TypeError since this profile has no scores\n",
    "try:\n",
    "    election = Rating(ranking_profile, m=1, L=5)\n",
    "except Exception as e:\n",
    "    print(f\"Found the following error:\\n\\t{e.__class__.__name__}: {e}\")"
   ]
  },
  {
   "cell_type": "code",
   "execution_count": 11,
   "metadata": {},
   "outputs": [
    {
     "name": "stdout",
     "output_type": "stream",
     "text": [
      "Found the following error:\n",
      "\tTypeError: Ballot ScoreBallot\n",
      "A: -1.00\n",
      "B: 3.14\n",
      "Weight: 1.0 must have non-negative scores.\n"
     ]
    }
   ],
   "source": [
    "negative_profile = PreferenceProfile(\n",
    "    ballots=[Ballot(scores={\"A\": -1, \"B\": 3.14159, \"C\": 0})]\n",
    ")\n",
    "\n",
    "# should raise a TypeError since this profile has negative score\n",
    "try:\n",
    "    election = Rating(negative_profile, m=1, L=5)\n",
    "except Exception as e:\n",
    "    print(f\"Found the following error:\\n\\t{e.__class__.__name__}: {e}\")"
   ]
  },
  {
   "cell_type": "code",
   "execution_count": 12,
   "metadata": {},
   "outputs": [
    {
     "name": "stdout",
     "output_type": "stream",
     "text": [
      "Found the following error:\n",
      "\tTypeError: Ballot ScoreBallot\n",
      "B: 10.00\n",
      "C: 1.00\n",
      "Weight: 1.0 violates score limit 5 per candidate.\n"
     ]
    }
   ],
   "source": [
    "over_L_profile = PreferenceProfile(ballots=[Ballot(scores={\"A\": 0, \"B\": 10, \"C\": 1})])\n",
    "\n",
    "# should raise a TypeError since this profile has score over 5\n",
    "try:\n",
    "    election = Rating(over_L_profile, m=1, L=5)\n",
    "except Exception as e:\n",
    "    print(f\"Found the following error:\\n\\t{e.__class__.__name__}: {e}\")"
   ]
  },
  {
   "cell_type": "markdown",
   "metadata": {},
   "source": [
    "## Cumulative election\n",
    "\n",
    "In a Cumulative election, voters can score each candidate as in a Rating election, but have a total budget of $m$ points, where $m$ is the number of seats to be filled. This means candidates cannot be scored independently, the total must sum to no more than $m$.\n",
    "\n",
    "Winners are those with highest total score. Giving a candidate multiple points is known as \"plumping\" the vote."
   ]
  },
  {
   "cell_type": "code",
   "execution_count": 13,
   "metadata": {},
   "outputs": [
    {
     "name": "stdout",
     "output_type": "stream",
     "text": [
      "      Status  Round\n",
      "B    Elected      1\n",
      "C    Elected      1\n",
      "A  Remaining      1\n",
      "(frozenset({'B', 'C'}), frozenset({'A'}))\n",
      "{'A': 8.0, 'B': 10.0, 'C': 10.0}\n"
     ]
    }
   ],
   "source": [
    "from votekit.elections import Cumulative\n",
    "\n",
    "score_profile = PreferenceProfile(\n",
    "    ballots=[\n",
    "        Ballot(scores={\"A\": 2, \"B\": 0, \"C\": 0}, weight=3),\n",
    "        Ballot(scores={\"A\": 1, \"B\": 1, \"C\": 0}, weight=2),\n",
    "        Ballot(scores={\"A\": 0, \"B\": 0, \"C\": 2}, weight=5),\n",
    "        Ballot(scores={\"A\": 0, \"B\": 2, \"C\": 0}, weight=4),\n",
    "    ]\n",
    ")\n",
    "\n",
    "# elect 2 seat, each voter can rate candidates up to 2 points total\n",
    "election = Cumulative(score_profile, m=2)\n",
    "print(election)\n",
    "print(election.get_ranking())\n",
    "print(election.election_states[0].scores)"
   ]
  },
  {
   "cell_type": "markdown",
   "metadata": {},
   "source": [
    "Here, B and C tied for 10 points and are thus elected in the same set.\n",
    "\n",
    "Again, the Cumulative class does validation for us."
   ]
  },
  {
   "cell_type": "code",
   "execution_count": 14,
   "metadata": {},
   "outputs": [
    {
     "name": "stdout",
     "output_type": "stream",
     "text": [
      "Found the following error:\n",
      "\tTypeError: Ballot ScoreBallot\n",
      "B: 2.00\n",
      "C: 1.00\n",
      "Weight: 1.0 violates total score budget 2.\n"
     ]
    }
   ],
   "source": [
    "over_m_profile = PreferenceProfile(ballots=[Ballot(scores={\"A\": 0, \"B\": 2, \"C\": 1})])\n",
    "\n",
    "# should raise a TypeError since this profile has total score over 2\n",
    "try:\n",
    "    election = Cumulative(over_m_profile, m=2)\n",
    "except Exception as e:\n",
    "    print(f\"Found the following error:\\n\\t{e.__class__.__name__}: {e}\")"
   ]
  },
  {
   "cell_type": "markdown",
   "metadata": {},
   "source": [
    "## Cumulative generator\n",
    "\n",
    "We have a ballot generator that generates cumulative style ballots from a preference interval. It samples with replacement, thus allowing for the possibility that you give one candidate multiple points (this is known as \"plumping\")."
   ]
  },
  {
   "cell_type": "code",
   "execution_count": null,
   "metadata": {},
   "outputs": [
    {
     "name": "stdout",
     "output_type": "stream",
     "text": [
      "                 A     B    C  Weight Voter Set\n",
      "Ballot Index                                   \n",
      "0             71.0  25.0  4.0     1.0        {}\n",
      "1             72.0  20.0  8.0     2.0        {}\n",
      "2             72.0  23.0  5.0     1.0        {}\n",
      "3             73.0  19.0  8.0     1.0        {}\n",
      "4             73.0  24.0  3.0     1.0        {}\n",
      "...            ...   ...  ...     ...       ...\n",
      "58            85.0  11.0  4.0     2.0        {}\n",
      "59            85.0  12.0  3.0     1.0        {}\n",
      "60            85.0  13.0  2.0     1.0        {}\n",
      "61            86.0  11.0  3.0     3.0        {}\n",
      "62            89.0  10.0  1.0     1.0        {}\n",
      "\n",
      "[63 rows x 5 columns]\n"
     ]
    }
   ],
   "source": [
    "import votekit.ballot_generator as bg\n",
    "from votekit import PreferenceInterval\n",
    "\n",
    "m = 2\n",
    "bloc_proportions = {\"all_voters\": 1}\n",
    "slate_to_candidates = {\"all_voters\": [\"A\", \"B\", \"C\"]}\n",
    "\n",
    "# the preference interval (80,15,5)\n",
    "preference_mapping = {\n",
    "    \"all_voters\": {\"all_voters\": PreferenceInterval({\"A\": 0.80, \"B\": 0.15, \"C\": 0.05})}\n",
    "}\n",
    "\n",
    "cohesion_mapping = {\"all_voters\": {\"all_voters\": 1}}\n",
    "\n",
    "config = bg.BlocSlateConfig(n_voters=100,\n",
    "            bloc_proportions=bloc_proportions,\n",
    "            slate_to_candidates=slate_to_candidates,\n",
    "            preference_mapping=preference_mapping,\n",
    "            cohesion_mapping=cohesion_mapping)\n",
    "\n",
    "# the num_votes parameter says how many total points the voter is given\n",
    "# for a cumulative election, this is m, the number of seats\n",
    "# in a limited election, this could be less than m\n",
    "\n",
    "profile = bg.name_cumulative_profile_generator(config)\n",
    "\n",
    "# profile = cumu.generate_profile(number_of_ballots=100)\n",
    "print(profile.df)"
   ]
  },
  {
   "cell_type": "markdown",
   "metadata": {},
   "source": [
    "Verify that the ballots make sense given the interval. `A` should receive the most votes."
   ]
  },
  {
   "cell_type": "code",
   "execution_count": 16,
   "metadata": {},
   "outputs": [
    {
     "ename": "TypeError",
     "evalue": "Ballot ScoreBallot\nA: 71.00\nB: 25.00\nC: 4.00\nWeight: 1.0 violates score limit 2 per candidate.",
     "output_type": "error",
     "traceback": [
      "\u001b[31m---------------------------------------------------------------------------\u001b[39m",
      "\u001b[31mTypeError\u001b[39m                                 Traceback (most recent call last)",
      "\u001b[36mCell\u001b[39m\u001b[36m \u001b[39m\u001b[32mIn[16]\u001b[39m\u001b[32m, line 1\u001b[39m\n\u001b[32m----> \u001b[39m\u001b[32m1\u001b[39m \u001b[43mCumulative\u001b[49m\u001b[43m(\u001b[49m\u001b[43mprofile\u001b[49m\u001b[43m,\u001b[49m\u001b[43m \u001b[49m\u001b[43mm\u001b[49m\u001b[43m)\u001b[49m\n",
      "\u001b[36mFile \u001b[39m\u001b[32m~/PycharmProjects/VoteKit/src/votekit/elections/election_types/scores/rating.py:214\u001b[39m, in \u001b[36mCumulative.__init__\u001b[39m\u001b[34m(self, profile, m, tiebreak)\u001b[39m\n\u001b[32m    211\u001b[39m \u001b[38;5;28;01mdef\u001b[39;00m\u001b[38;5;250m \u001b[39m\u001b[34m__init__\u001b[39m(\n\u001b[32m    212\u001b[39m     \u001b[38;5;28mself\u001b[39m, profile: ScoreProfile, m: \u001b[38;5;28mint\u001b[39m = \u001b[32m1\u001b[39m, tiebreak: Optional[\u001b[38;5;28mstr\u001b[39m] = \u001b[38;5;28;01mNone\u001b[39;00m\n\u001b[32m    213\u001b[39m ):\n\u001b[32m--> \u001b[39m\u001b[32m214\u001b[39m     \u001b[38;5;28;43msuper\u001b[39;49m\u001b[43m(\u001b[49m\u001b[43m)\u001b[49m\u001b[43m.\u001b[49m\u001b[34;43m__init__\u001b[39;49m\u001b[43m(\u001b[49m\u001b[43mprofile\u001b[49m\u001b[43m,\u001b[49m\u001b[43m \u001b[49m\u001b[43mm\u001b[49m\u001b[43m=\u001b[49m\u001b[43mm\u001b[49m\u001b[43m,\u001b[49m\u001b[43m \u001b[49m\u001b[43mk\u001b[49m\u001b[43m=\u001b[49m\u001b[43mm\u001b[49m\u001b[43m,\u001b[49m\u001b[43m \u001b[49m\u001b[43mtiebreak\u001b[49m\u001b[43m=\u001b[49m\u001b[43mtiebreak\u001b[49m\u001b[43m)\u001b[49m\n",
      "\u001b[36mFile \u001b[39m\u001b[32m~/PycharmProjects/VoteKit/src/votekit/elections/election_types/scores/rating.py:196\u001b[39m, in \u001b[36mLimited.__init__\u001b[39m\u001b[34m(self, profile, m, k, tiebreak)\u001b[39m\n\u001b[32m    193\u001b[39m \u001b[38;5;28;01mif\u001b[39;00m k > m:\n\u001b[32m    194\u001b[39m     \u001b[38;5;28;01mraise\u001b[39;00m \u001b[38;5;167;01mValueError\u001b[39;00m(\u001b[33m\"\u001b[39m\u001b[33mk must be less than or equal to m.\u001b[39m\u001b[33m\"\u001b[39m)\n\u001b[32m--> \u001b[39m\u001b[32m196\u001b[39m \u001b[38;5;28;43msuper\u001b[39;49m\u001b[43m(\u001b[49m\u001b[43m)\u001b[49m\u001b[43m.\u001b[49m\u001b[34;43m__init__\u001b[39;49m\u001b[43m(\u001b[49m\u001b[43mprofile\u001b[49m\u001b[43m,\u001b[49m\u001b[43m \u001b[49m\u001b[43mm\u001b[49m\u001b[43m=\u001b[49m\u001b[43mm\u001b[49m\u001b[43m,\u001b[49m\u001b[43m \u001b[49m\u001b[43mL\u001b[49m\u001b[43m=\u001b[49m\u001b[43mk\u001b[49m\u001b[43m,\u001b[49m\u001b[43m \u001b[49m\u001b[43mk\u001b[49m\u001b[43m=\u001b[49m\u001b[43mk\u001b[49m\u001b[43m,\u001b[49m\u001b[43m \u001b[49m\u001b[43mtiebreak\u001b[49m\u001b[43m=\u001b[49m\u001b[43mtiebreak\u001b[49m\u001b[43m)\u001b[49m\n",
      "\u001b[36mFile \u001b[39m\u001b[32m~/PycharmProjects/VoteKit/src/votekit/elections/election_types/scores/rating.py:50\u001b[39m, in \u001b[36mGeneralRating.__init__\u001b[39m\u001b[34m(self, profile, m, L, k, tiebreak)\u001b[39m\n\u001b[32m     48\u001b[39m \u001b[38;5;28mself\u001b[39m.k = k\n\u001b[32m     49\u001b[39m \u001b[38;5;28mself\u001b[39m.tiebreak = tiebreak\n\u001b[32m---> \u001b[39m\u001b[32m50\u001b[39m \u001b[38;5;28;43mself\u001b[39;49m\u001b[43m.\u001b[49m\u001b[43m_validate_profile\u001b[49m\u001b[43m(\u001b[49m\u001b[43mprofile\u001b[49m\u001b[43m)\u001b[49m\n\u001b[32m     51\u001b[39m \u001b[38;5;28msuper\u001b[39m().\u001b[34m__init__\u001b[39m(\n\u001b[32m     52\u001b[39m     profile, score_function=score_profile_from_ballot_scores, sort_high_low=\u001b[38;5;28;01mTrue\u001b[39;00m\n\u001b[32m     53\u001b[39m )\n",
      "\u001b[36mFile \u001b[39m\u001b[32m~/PycharmProjects/VoteKit/src/votekit/elections/election_types/scores/rating.py:80\u001b[39m, in \u001b[36mGeneralRating._validate_profile\u001b[39m\u001b[34m(self, profile)\u001b[39m\n\u001b[32m     78\u001b[39m     \u001b[38;5;28;01mraise\u001b[39;00m \u001b[38;5;167;01mTypeError\u001b[39;00m(\u001b[33m\"\u001b[39m\u001b[33mAll ballots must have score dictionary.\u001b[39m\u001b[33m\"\u001b[39m)\n\u001b[32m     79\u001b[39m \u001b[38;5;28;01melif\u001b[39;00m \u001b[38;5;28many\u001b[39m(score > \u001b[38;5;28mself\u001b[39m.L \u001b[38;5;28;01mfor\u001b[39;00m score \u001b[38;5;129;01min\u001b[39;00m b.scores.values()):\n\u001b[32m---> \u001b[39m\u001b[32m80\u001b[39m     \u001b[38;5;28;01mraise\u001b[39;00m \u001b[38;5;167;01mTypeError\u001b[39;00m(\n\u001b[32m     81\u001b[39m         \u001b[33mf\u001b[39m\u001b[33m\"\u001b[39m\u001b[33mBallot \u001b[39m\u001b[38;5;132;01m{\u001b[39;00mb\u001b[38;5;132;01m}\u001b[39;00m\u001b[33m violates score limit \u001b[39m\u001b[38;5;132;01m{\u001b[39;00m\u001b[38;5;28mself\u001b[39m.L\u001b[38;5;132;01m}\u001b[39;00m\u001b[33m per candidate.\u001b[39m\u001b[33m\"\u001b[39m\n\u001b[32m     82\u001b[39m     )\n\u001b[32m     83\u001b[39m \u001b[38;5;28;01melif\u001b[39;00m \u001b[38;5;28many\u001b[39m(score < \u001b[32m0\u001b[39m \u001b[38;5;28;01mfor\u001b[39;00m score \u001b[38;5;129;01min\u001b[39;00m b.scores.values()):\n\u001b[32m     84\u001b[39m     \u001b[38;5;28;01mraise\u001b[39;00m \u001b[38;5;167;01mTypeError\u001b[39;00m(\u001b[33mf\u001b[39m\u001b[33m\"\u001b[39m\u001b[33mBallot \u001b[39m\u001b[38;5;132;01m{\u001b[39;00mb\u001b[38;5;132;01m}\u001b[39;00m\u001b[33m must have non-negative scores.\u001b[39m\u001b[33m\"\u001b[39m)\n",
      "\u001b[31mTypeError\u001b[39m: Ballot ScoreBallot\nA: 71.00\nB: 25.00\nC: 4.00\nWeight: 1.0 violates score limit 2 per candidate."
     ]
    }
   ],
   "source": [
    "Cumulative(profile, m)"
   ]
  },
  {
   "cell_type": "markdown",
   "metadata": {},
   "source": [
    "### **Try it yourself**\n",
    "> Change the preference interval and rerun the election. Does the profile make sense?"
   ]
  },
  {
   "cell_type": "markdown",
   "metadata": {},
   "source": [
    "## Conclusion\n",
    "\n",
    "You have now seen score ballots, Rating elections, and Cumulative elections and generators. `VoteKit` also implements Limited elections, as well as approval elections, which are like score-based elections but each candidate can only be scored 0 or 1."
   ]
  },
  {
   "cell_type": "code",
   "execution_count": null,
   "metadata": {},
   "outputs": [],
   "source": []
  }
 ],
 "metadata": {
  "kernelspec": {
   "display_name": ".venv",
   "language": "python",
   "name": "python3"
  },
  "language_info": {
   "codemirror_mode": {
    "name": "ipython",
    "version": 3
   },
   "file_extension": ".py",
   "mimetype": "text/x-python",
   "name": "python",
   "nbconvert_exporter": "python",
   "pygments_lexer": "ipython3",
   "version": "3.11.8"
  }
 },
 "nbformat": 4,
 "nbformat_minor": 2
}
